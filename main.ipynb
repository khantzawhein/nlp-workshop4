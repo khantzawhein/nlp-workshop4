{
 "cells": [
  {
   "metadata": {
    "ExecuteTime": {
     "end_time": "2024-12-31T10:31:57.571908Z",
     "start_time": "2024-12-31T10:31:57.554951Z"
    }
   },
   "cell_type": "code",
   "source": [
    "import pandas as pd\n",
    "from sklearn.preprocessing import LabelEncoder, MaxAbsScaler\n",
    "from sklearn.svm import LinearSVC\n",
    "\n",
    "data = pd.read_csv(\"./spam_cleaned.csv\")\n",
    "\n",
    "label_encoder = LabelEncoder()\n",
    "encoded = label_encoder.fit_transform(data['label'])\n",
    "data['label'] = encoded\n",
    "\n",
    "data.head(10)\n",
    "data.tail(10)\n"
   ],
   "id": "dca5c97001f69850",
   "outputs": [
    {
     "data": {
      "text/plain": [
       "      label                                               text    len\n",
       "5562      0                          salesman ask use consider  0.096\n",
       "5563      0                                               like  0.019\n",
       "5564      0                                           wait til  0.067\n",
       "5565      0                                          huh y lei  0.012\n",
       "5566      1  reminder pound free credit detail great offer ...  0.147\n",
       "5567      1  time try contact u win pound prize claim easy ...  0.160\n",
       "5568      0                                b go esplanade home  0.037\n",
       "5569      0                               pity mood suggestion  0.057\n",
       "5570      0   guy bitch act like interested buy week give free  0.125\n",
       "5571      0                                               true  0.026"
      ],
      "text/html": [
       "<div>\n",
       "<style scoped>\n",
       "    .dataframe tbody tr th:only-of-type {\n",
       "        vertical-align: middle;\n",
       "    }\n",
       "\n",
       "    .dataframe tbody tr th {\n",
       "        vertical-align: top;\n",
       "    }\n",
       "\n",
       "    .dataframe thead th {\n",
       "        text-align: right;\n",
       "    }\n",
       "</style>\n",
       "<table border=\"1\" class=\"dataframe\">\n",
       "  <thead>\n",
       "    <tr style=\"text-align: right;\">\n",
       "      <th></th>\n",
       "      <th>label</th>\n",
       "      <th>text</th>\n",
       "      <th>len</th>\n",
       "    </tr>\n",
       "  </thead>\n",
       "  <tbody>\n",
       "    <tr>\n",
       "      <th>5562</th>\n",
       "      <td>0</td>\n",
       "      <td>salesman ask use consider</td>\n",
       "      <td>0.096</td>\n",
       "    </tr>\n",
       "    <tr>\n",
       "      <th>5563</th>\n",
       "      <td>0</td>\n",
       "      <td>like</td>\n",
       "      <td>0.019</td>\n",
       "    </tr>\n",
       "    <tr>\n",
       "      <th>5564</th>\n",
       "      <td>0</td>\n",
       "      <td>wait til</td>\n",
       "      <td>0.067</td>\n",
       "    </tr>\n",
       "    <tr>\n",
       "      <th>5565</th>\n",
       "      <td>0</td>\n",
       "      <td>huh y lei</td>\n",
       "      <td>0.012</td>\n",
       "    </tr>\n",
       "    <tr>\n",
       "      <th>5566</th>\n",
       "      <td>1</td>\n",
       "      <td>reminder pound free credit detail great offer ...</td>\n",
       "      <td>0.147</td>\n",
       "    </tr>\n",
       "    <tr>\n",
       "      <th>5567</th>\n",
       "      <td>1</td>\n",
       "      <td>time try contact u win pound prize claim easy ...</td>\n",
       "      <td>0.160</td>\n",
       "    </tr>\n",
       "    <tr>\n",
       "      <th>5568</th>\n",
       "      <td>0</td>\n",
       "      <td>b go esplanade home</td>\n",
       "      <td>0.037</td>\n",
       "    </tr>\n",
       "    <tr>\n",
       "      <th>5569</th>\n",
       "      <td>0</td>\n",
       "      <td>pity mood suggestion</td>\n",
       "      <td>0.057</td>\n",
       "    </tr>\n",
       "    <tr>\n",
       "      <th>5570</th>\n",
       "      <td>0</td>\n",
       "      <td>guy bitch act like interested buy week give free</td>\n",
       "      <td>0.125</td>\n",
       "    </tr>\n",
       "    <tr>\n",
       "      <th>5571</th>\n",
       "      <td>0</td>\n",
       "      <td>true</td>\n",
       "      <td>0.026</td>\n",
       "    </tr>\n",
       "  </tbody>\n",
       "</table>\n",
       "</div>"
      ]
     },
     "execution_count": 117,
     "metadata": {},
     "output_type": "execute_result"
    }
   ],
   "execution_count": 117
  },
  {
   "metadata": {
    "ExecuteTime": {
     "end_time": "2024-12-31T10:31:57.596586Z",
     "start_time": "2024-12-31T10:31:57.595348Z"
    }
   },
   "cell_type": "code",
   "source": "",
   "id": "c5c65bcf17b88ee6",
   "outputs": [],
   "execution_count": null
  },
  {
   "metadata": {
    "ExecuteTime": {
     "end_time": "2024-12-31T10:31:57.620599Z",
     "start_time": "2024-12-31T10:31:57.619230Z"
    }
   },
   "cell_type": "code",
   "source": "",
   "id": "aa2c58340edbbc79",
   "outputs": [],
   "execution_count": null
  },
  {
   "metadata": {
    "ExecuteTime": {
     "end_time": "2024-12-31T10:31:57.672528Z",
     "start_time": "2024-12-31T10:31:57.637940Z"
    }
   },
   "cell_type": "code",
   "source": [
    "from sklearn.feature_extraction.text import TfidfVectorizer\n",
    "\n",
    "vectorizer = TfidfVectorizer(analyzer='word', stop_words='english', ngram_range=(1, 2))\n",
    "data = data.dropna()\n",
    "X = vectorizer.fit_transform(data['text']) # Metric\n",
    "Y = data['label'] # Features\n",
    "print(X)\n",
    "print(Y)"
   ],
   "id": "ae95118e035b3d13",
   "outputs": [
    {
     "name": "stdout",
     "output_type": "stream",
     "text": [
      "<Compressed Sparse Row sparse matrix of dtype 'float64'\n",
      "\twith 51057 stored elements and shape (5444, 20123)>\n",
      "  Coords\tValues\n",
      "  (0, 12655)\t0.19177105725622232\n",
      "  (0, 3465)\t0.21233323425213838\n",
      "  (0, 789)\t0.20867148465443613\n",
      "  (0, 6647)\t0.15239712876078865\n",
      "  (0, 19629)\t0.18712227431680736\n",
      "  (0, 8675)\t0.23388244458976715\n",
      "  (0, 1776)\t0.26437538529735916\n",
      "  (0, 2541)\t0.23388244458976715\n",
      "  (0, 18929)\t0.15268104798419357\n",
      "  (0, 12657)\t0.2769808652650247\n",
      "  (0, 3467)\t0.2769808652650247\n",
      "  (0, 792)\t0.2769808652650247\n",
      "  (0, 6707)\t0.2769808652650247\n",
      "  (0, 19640)\t0.2769808652650247\n",
      "  (0, 8676)\t0.2769808652650247\n",
      "  (0, 1777)\t0.2769808652650247\n",
      "  (0, 2547)\t0.2769808652650247\n",
      "  (1, 8733)\t0.47155322309699343\n",
      "  (1, 8375)\t0.5306243418450858\n",
      "  (1, 8742)\t0.7043261784346134\n",
      "  (2, 5950)\t0.11238930825477315\n",
      "  (2, 5029)\t0.35109625710562353\n",
      "  (2, 19346)\t0.12703868263680626\n",
      "  (2, 5279)\t0.4585283971245484\n",
      "  (2, 3562)\t0.19964552702377758\n",
      "  :\t:\n",
      "  (5439, 10537)\t0.2645516997823119\n",
      "  (5440, 7565)\t0.353353718437296\n",
      "  (5440, 5077)\t0.6247138266208685\n",
      "  (5440, 5078)\t0.6963287905115281\n",
      "  (5441, 10841)\t0.38745883545770754\n",
      "  (5441, 16232)\t0.4449407943735387\n",
      "  (5441, 12461)\t0.4661556751157998\n",
      "  (5441, 12462)\t0.4661556751157998\n",
      "  (5441, 10844)\t0.4661556751157998\n",
      "  (5442, 5950)\t0.14489074109282524\n",
      "  (5442, 19142)\t0.16649325029164835\n",
      "  (5442, 9182)\t0.14399181449189127\n",
      "  (5442, 19163)\t0.26611507543682644\n",
      "  (5442, 1859)\t0.1836871888183802\n",
      "  (5442, 6836)\t0.19086838892030297\n",
      "  (5442, 8203)\t0.25738025098231965\n",
      "  (5442, 97)\t0.27780969217970797\n",
      "  (5442, 1371)\t0.26611507543682644\n",
      "  (5442, 6839)\t0.30965680397094303\n",
      "  (5442, 1372)\t0.30965680397094303\n",
      "  (5442, 99)\t0.30965680397094303\n",
      "  (5442, 9234)\t0.30965680397094303\n",
      "  (5442, 8205)\t0.30965680397094303\n",
      "  (5442, 1916)\t0.30965680397094303\n",
      "  (5443, 17885)\t1.0\n",
      "0       0\n",
      "1       0\n",
      "2       1\n",
      "3       0\n",
      "4       0\n",
      "       ..\n",
      "5567    1\n",
      "5568    0\n",
      "5569    0\n",
      "5570    0\n",
      "5571    0\n",
      "Name: label, Length: 5444, dtype: int64\n"
     ]
    }
   ],
   "execution_count": 118
  },
  {
   "metadata": {
    "ExecuteTime": {
     "end_time": "2024-12-31T10:31:57.683765Z",
     "start_time": "2024-12-31T10:31:57.679413Z"
    }
   },
   "cell_type": "code",
   "source": [
    "from sklearn.model_selection import train_test_split\n",
    "\n",
    "# Split data here to avoid data leakage\n",
    "# 70:30 split\n",
    "X_train, X_test, y_train, y_test = train_test_split(X, Y, test_size=0.3, random_state=1234, stratify=Y)\n",
    "print(\"Report of shapes of the matrix for train and test set:\")\n",
    "print(f\"X_train: {X_train.shape}, y_train: {y_train.shape}\")\n",
    "print(f\"X_test: {X_test.shape}, y_test: {y_test.shape}\")\n"
   ],
   "id": "772a28b0805f6cf5",
   "outputs": [
    {
     "name": "stdout",
     "output_type": "stream",
     "text": [
      "Report of shapes of the matrix for train and test set:\n",
      "X_train: (3810, 20123), y_train: (3810,)\n",
      "X_test: (1634, 20123), y_test: (1634,)\n"
     ]
    }
   ],
   "execution_count": 119
  },
  {
   "metadata": {
    "ExecuteTime": {
     "end_time": "2024-12-31T10:31:57.691225Z",
     "start_time": "2024-12-31T10:31:57.689341Z"
    }
   },
   "cell_type": "code",
   "source": [
    "print(\"Top 10 matrix: \")\n",
    "print(X_train[:10])\n",
    "print(y_train[:10])"
   ],
   "id": "fdf3dfd5bd2121b",
   "outputs": [
    {
     "name": "stdout",
     "output_type": "stream",
     "text": [
      "Top 10 matrix: \n",
      "<Compressed Sparse Row sparse matrix of dtype 'float64'\n",
      "\twith 110 stored elements and shape (10, 20123)>\n",
      "  Coords\tValues\n",
      "  (0, 14539)\t0.14226358697163768\n",
      "  (0, 3592)\t0.19311027495574298\n",
      "  (0, 15975)\t0.163397666174008\n",
      "  (0, 14689)\t0.18728022372272848\n",
      "  (0, 3603)\t0.21925804669070956\n",
      "  (0, 14630)\t0.22591270347414746\n",
      "  (0, 18132)\t0.28891956415498354\n",
      "  (0, 7969)\t0.28891956415498354\n",
      "  (0, 15987)\t0.27466146533298164\n",
      "  (0, 18423)\t0.2566983852089003\n",
      "  (0, 13655)\t0.29903584626239876\n",
      "  (0, 13656)\t0.29903584626239876\n",
      "  (0, 18135)\t0.3132939450844006\n",
      "  (0, 18424)\t0.3132939450844006\n",
      "  (0, 7970)\t0.3132939450844006\n",
      "  (1, 15892)\t0.5648264856307486\n",
      "  (1, 6281)\t0.5228106228252373\n",
      "  (1, 6289)\t0.6384669872366975\n",
      "  (2, 10251)\t0.44844230041498845\n",
      "  (2, 613)\t0.43755564555911686\n",
      "  (2, 658)\t0.7793872979705647\n",
      "  (3, 16817)\t0.16897544661575578\n",
      "  (3, 3488)\t0.24820064703910497\n",
      "  (3, 2317)\t0.2388736537805985\n",
      "  (3, 15975)\t0.18178290811884762\n",
      "  :\t:\n",
      "  (7, 13227)\t0.26230411879928484\n",
      "  (7, 1344)\t0.20609147484222026\n",
      "  (7, 6784)\t0.20773928243881187\n",
      "  (7, 4799)\t0.2131995269759739\n",
      "  (7, 4573)\t0.22906922373263255\n",
      "  (7, 10109)\t0.22472646857775286\n",
      "  (7, 399)\t0.31558075954079584\n",
      "  (7, 4805)\t0.31558075954079584\n",
      "  (7, 10113)\t0.31558075954079584\n",
      "  (7, 6804)\t0.31558075954079584\n",
      "  (7, 13229)\t0.31558075954079584\n",
      "  (7, 4577)\t0.31558075954079584\n",
      "  (7, 1345)\t0.31558075954079584\n",
      "  (8, 12199)\t0.419421978017167\n",
      "  (8, 16402)\t0.6267887818597331\n",
      "  (8, 12220)\t0.6566742170140067\n",
      "  (9, 12655)\t0.2749958014987893\n",
      "  (9, 17100)\t0.19393495247873271\n",
      "  (9, 5652)\t0.24409467150947786\n",
      "  (9, 19829)\t0.22899183119961103\n",
      "  (9, 19866)\t0.3791089334156528\n",
      "  (9, 16555)\t0.39718493568930996\n",
      "  (9, 17206)\t0.39718493568930996\n",
      "  (9, 16556)\t0.39718493568930996\n",
      "  (9, 5688)\t0.39718493568930996\n",
      "4766    1\n",
      "3336    0\n",
      "306     0\n",
      "2099    1\n",
      "2502    0\n",
      "4111    0\n",
      "1651    0\n",
      "2838    0\n",
      "3542    0\n",
      "5530    0\n",
      "Name: label, dtype: int64\n"
     ]
    }
   ],
   "execution_count": 120
  },
  {
   "metadata": {
    "ExecuteTime": {
     "end_time": "2024-12-31T10:31:57.698669Z",
     "start_time": "2024-12-31T10:31:57.696710Z"
    }
   },
   "cell_type": "code",
   "source": [
    "print(\"Bottom 10 matrix: \")\n",
    "print(X_train[-10:])\n",
    "print(y_train[-10:])"
   ],
   "id": "9fbc05b0d3480ba",
   "outputs": [
    {
     "name": "stdout",
     "output_type": "stream",
     "text": [
      "Bottom 10 matrix: \n",
      "<Compressed Sparse Row sparse matrix of dtype 'float64'\n",
      "\twith 102 stored elements and shape (10, 20123)>\n",
      "  Coords\tValues\n",
      "  (0, 16817)\t0.153559348932644\n",
      "  (0, 14539)\t0.1438313681103245\n",
      "  (0, 6368)\t0.20767011385967185\n",
      "  (0, 15975)\t0.16519835027445967\n",
      "  (0, 10456)\t0.17838327002396967\n",
      "  (0, 13308)\t0.20936340166838832\n",
      "  (0, 16022)\t0.25019960788826623\n",
      "  (0, 10482)\t0.26746053885113613\n",
      "  (0, 11025)\t0.30233129782200907\n",
      "  (0, 16872)\t0.30233129782200907\n",
      "  (0, 11026)\t0.30233129782200907\n",
      "  (0, 5054)\t0.3167465245421787\n",
      "  (0, 14577)\t0.3167465245421787\n",
      "  (0, 6377)\t0.3167465245421787\n",
      "  (0, 5055)\t0.3167465245421787\n",
      "  (1, 5587)\t0.3665176454100944\n",
      "  (1, 7178)\t0.49044922053013434\n",
      "  (1, 2121)\t0.37953063360839695\n",
      "  (1, 5592)\t0.49044922053013434\n",
      "  (1, 7179)\t0.49044922053013434\n",
      "  (2, 5652)\t0.3413904611590868\n",
      "  (2, 15476)\t0.28547762824555517\n",
      "  (2, 5153)\t0.4298714857203401\n",
      "  (2, 15493)\t0.5555022873784886\n",
      "  (2, 5662)\t0.5555022873784886\n",
      "  :\t:\n",
      "  (7, 16268)\t0.19233790478653953\n",
      "  (7, 13319)\t0.19233790478653953\n",
      "  (7, 8989)\t0.19233790478653953\n",
      "  (7, 19662)\t0.19233790478653953\n",
      "  (7, 1442)\t0.19233790478653953\n",
      "  (7, 1441)\t0.19233790478653953\n",
      "  (7, 1126)\t0.19770746339068418\n",
      "  (8, 509)\t0.24663568286402762\n",
      "  (8, 19142)\t0.19444259364093128\n",
      "  (8, 2559)\t0.1989767888823555\n",
      "  (8, 11591)\t0.23436574965955423\n",
      "  (8, 3941)\t0.19824539672514602\n",
      "  (8, 18582)\t0.24545904492794768\n",
      "  (8, 7537)\t0.31078800722700656\n",
      "  (8, 3992)\t0.31078800722700656\n",
      "  (8, 18588)\t0.31078800722700656\n",
      "  (8, 7538)\t0.31704516314026493\n",
      "  (8, 2585)\t0.3244458078113502\n",
      "  (8, 19176)\t0.31704516314026493\n",
      "  (8, 11593)\t0.3335034648594788\n",
      "  (9, 12085)\t0.34493859199482324\n",
      "  (9, 16641)\t0.25299811326320115\n",
      "  (9, 11875)\t0.5218586406419173\n",
      "  (9, 11876)\t0.5218586406419173\n",
      "  (9, 12105)\t0.5218586406419173\n",
      "5364    1\n",
      "240     0\n",
      "3818    0\n",
      "390     0\n",
      "1700    0\n",
      "5015    0\n",
      "3783    0\n",
      "1286    0\n",
      "4164    1\n",
      "4004    0\n",
      "Name: label, dtype: int64\n"
     ]
    }
   ],
   "execution_count": 121
  },
  {
   "metadata": {
    "ExecuteTime": {
     "end_time": "2024-12-31T10:31:57.707277Z",
     "start_time": "2024-12-31T10:31:57.703847Z"
    }
   },
   "cell_type": "code",
   "source": [
    "from sklearn.feature_selection import VarianceThreshold\n",
    "\n",
    "print(f\"Before using Variance Threshold: {X_train.shape}\")\n",
    "# Variance of features between each row is very low, so we have to use 0.00003 as the threshold instead of 0.1\n",
    "variance_transformer = VarianceThreshold(threshold=0.00003)\n",
    "\n",
    "X_train = variance_transformer.fit_transform(X_train)\n",
    "X_test = variance_transformer.transform(X_test)\n",
    "print(f\"After using Variance Threshold: {X_train.shape}\")\n",
    "\n",
    "\n"
   ],
   "id": "a585dba1e7befe3",
   "outputs": [
    {
     "name": "stdout",
     "output_type": "stream",
     "text": [
      "Before using Variance Threshold: (3810, 20123)\n",
      "After using Variance Threshold: (3810, 7735)\n"
     ]
    }
   ],
   "execution_count": 122
  },
  {
   "metadata": {
    "ExecuteTime": {
     "end_time": "2024-12-31T10:31:57.722848Z",
     "start_time": "2024-12-31T10:31:57.713209Z"
    }
   },
   "cell_type": "code",
   "source": [
    "from sklearn.metrics import accuracy_score, classification_report\n",
    "\n",
    "regression = LinearSVC()\n",
    "regression.fit(X_train, y_train)\n",
    "\n",
    "y_pred = regression.predict(X_test)\n",
    "\n",
    "accuracy = accuracy_score(y_test, y_pred)\n",
    "\n",
    "print(f\"Accuracy: {accuracy}\")\n",
    "\n",
    "print(classification_report(y_test, y_pred))\n"
   ],
   "id": "762aaf8b9481497e",
   "outputs": [
    {
     "name": "stdout",
     "output_type": "stream",
     "text": [
      "Accuracy: 0.9736842105263158\n",
      "              precision    recall  f1-score   support\n",
      "\n",
      "           0       0.97      1.00      0.98      1411\n",
      "           1       0.99      0.82      0.89       223\n",
      "\n",
      "    accuracy                           0.97      1634\n",
      "   macro avg       0.98      0.91      0.94      1634\n",
      "weighted avg       0.97      0.97      0.97      1634\n",
      "\n"
     ]
    }
   ],
   "execution_count": 123
  }
 ],
 "metadata": {
  "kernelspec": {
   "name": "python3",
   "language": "python",
   "display_name": "Python 3 (ipykernel)"
  }
 },
 "nbformat": 5,
 "nbformat_minor": 9
}
